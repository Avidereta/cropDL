{
 "cells": [
  {
   "cell_type": "code",
   "execution_count": 13,
   "metadata": {
    "collapsed": false
   },
   "outputs": [
    {
     "name": "stdout",
     "output_type": "stream",
     "text": [
      "/home/anastasia/cropDL\n",
      "The autoreload extension is already loaded. To reload it, use:\n",
      "  %reload_ext autoreload\n"
     ]
    }
   ],
   "source": [
    "import os\n",
    "\n",
    "# Make parentdir = 'cropDL'\n",
    "parentdir = os.path.dirname(os.path.dirname(os.path.dirname(os.path.dirname(os.path.abspath('__file__')))))\n",
    "print parentdir\n",
    "os.sys.path.insert(0,parentdir) \n",
    "from utils.nb_executor import *\n",
    "\n",
    "%load_ext autoreload\n",
    "%autoreload 2"
   ]
  },
  {
   "cell_type": "markdown",
   "metadata": {},
   "source": [
    "## Execute notebooks\n",
    "\n",
    "* The following cell executes notebooks in eval_names (template.ipynb in our case) in the directory run_path. \n",
    "\n",
    "\n",
    "* For notebook execution some parameters (such as n_hidden, filter_size) are needed: they are transmitted to the notebook in function execute_notebooks() via external file (such as n_hidden.txt etc), which are created before execution and then deleted after the execution is done.\n",
    "\n",
    "\n",
    "* Then it saves executed notebooks (with the cell outputs obtained during execution) with new names from eval_names_out to the save_path.   \n",
    "\n",
    "\n",
    "* How eval_names_out are generated?\n",
    "eval_names_out are generated according to parameters (such as n_hidden, filter_size), concatenated with your specific_name, which should reflect the idea of experiment. For example, specific_name = 'ClassiCNN_with_regl2'\n"
   ]
  },
  {
   "cell_type": "code",
   "execution_count": 24,
   "metadata": {
    "collapsed": false
   },
   "outputs": [
    {
     "name": "stdout",
     "output_type": "stream",
     "text": [
      "Files to execute:\n",
      "16hidden_3filtsize_ClassiCNN_withRegl2.ipynb\n",
      "16hidden_5filtsize_ClassiCNN_withRegl2.ipynb\n",
      "16hidden_7filtsize_ClassiCNN_withRegl2.ipynb\n",
      "30hidden_3filtsize_ClassiCNN_withRegl2.ipynb\n",
      "30hidden_5filtsize_ClassiCNN_withRegl2.ipynb\n",
      "30hidden_7filtsize_ClassiCNN_withRegl2.ipynb\n",
      "40hidden_3filtsize_ClassiCNN_withRegl2.ipynb\n",
      "40hidden_5filtsize_ClassiCNN_withRegl2.ipynb\n",
      "40hidden_7filtsize_ClassiCNN_withRegl2.ipynb\n",
      "n_hidden = 16 was used\n",
      "[[3, 3], [5, 5], [7, 7], [3, 3], [5, 5], [7, 7], [3, 3], [5, 5], [7, 7]]\n",
      "filter_size = 3 was used\n",
      "the file will be saved as 16hidden_3filtsize_ClassiCNN_withRegl2.ipynb\n",
      "DONE: 16hidden_3filtsize_ClassiCNN_withRegl2.ipynb\n",
      "Converting to html...\n"
     ]
    },
    {
     "ename": "OSError",
     "evalue": "[Errno 2] No such file or directory",
     "output_type": "error",
     "traceback": [
      "\u001b[1;31m---------------------------------------------------------------------------\u001b[0m",
      "\u001b[1;31mOSError\u001b[0m                                   Traceback (most recent call last)",
      "\u001b[1;32m<ipython-input-24-512f894170d0>\u001b[0m in \u001b[0;36m<module>\u001b[1;34m()\u001b[0m\n\u001b[0;32m     34\u001b[0m                 \u001b[0mn_hidden\u001b[0m\u001b[1;33m=\u001b[0m\u001b[0mn_hidden\u001b[0m\u001b[1;33m,\u001b[0m\u001b[1;33m\u001b[0m\u001b[0m\n\u001b[0;32m     35\u001b[0m                 \u001b[0mfilter_size\u001b[0m\u001b[1;33m=\u001b[0m\u001b[0mfilter_size\u001b[0m\u001b[1;33m,\u001b[0m\u001b[1;33m\u001b[0m\u001b[0m\n\u001b[1;32m---> 36\u001b[1;33m                 to_html=to_html)\n\u001b[0m",
      "\u001b[1;32m/home/anastasia/cropDL/code/utils/nb_executor.py\u001b[0m in \u001b[0;36mexecute_notebooks\u001b[1;34m(eval_names, run_path, save_path, eval_names_out, n_hidden, filter_size, to_html)\u001b[0m\n\u001b[0;32m     87\u001b[0m             \u001b[1;32mif\u001b[0m \u001b[0mto_html\u001b[0m\u001b[1;33m:\u001b[0m\u001b[1;33m\u001b[0m\u001b[0m\n\u001b[0;32m     88\u001b[0m                 \u001b[1;32mprint\u001b[0m \u001b[1;34m\"Converting to html...\"\u001b[0m\u001b[1;33m\u001b[0m\u001b[0m\n\u001b[1;32m---> 89\u001b[1;33m                 \u001b[0msubprocess\u001b[0m\u001b[1;33m.\u001b[0m\u001b[0mcall\u001b[0m\u001b[1;33m(\u001b[0m\u001b[1;34m\"jupyter nbconvert {} --to html\"\u001b[0m\u001b[1;33m.\u001b[0m\u001b[0mformat\u001b[0m\u001b[1;33m(\u001b[0m\u001b[0meval_name_out\u001b[0m\u001b[1;33m)\u001b[0m\u001b[1;33m)\u001b[0m\u001b[1;33m\u001b[0m\u001b[0m\n\u001b[0m\u001b[0;32m     90\u001b[0m                 \u001b[1;32mprint\u001b[0m \u001b[1;34m'Done!'\u001b[0m\u001b[1;33m\u001b[0m\u001b[0m\n\u001b[0;32m     91\u001b[0m \u001b[1;33m\u001b[0m\u001b[0m\n",
      "\u001b[1;32m/usr/lib/python2.7/subprocess.pyc\u001b[0m in \u001b[0;36mcall\u001b[1;34m(*popenargs, **kwargs)\u001b[0m\n\u001b[0;32m    521\u001b[0m     \u001b[0mretcode\u001b[0m \u001b[1;33m=\u001b[0m \u001b[0mcall\u001b[0m\u001b[1;33m(\u001b[0m\u001b[1;33m[\u001b[0m\u001b[1;34m\"ls\"\u001b[0m\u001b[1;33m,\u001b[0m \u001b[1;34m\"-l\"\u001b[0m\u001b[1;33m]\u001b[0m\u001b[1;33m)\u001b[0m\u001b[1;33m\u001b[0m\u001b[0m\n\u001b[0;32m    522\u001b[0m     \"\"\"\n\u001b[1;32m--> 523\u001b[1;33m     \u001b[1;32mreturn\u001b[0m \u001b[0mPopen\u001b[0m\u001b[1;33m(\u001b[0m\u001b[1;33m*\u001b[0m\u001b[0mpopenargs\u001b[0m\u001b[1;33m,\u001b[0m \u001b[1;33m**\u001b[0m\u001b[0mkwargs\u001b[0m\u001b[1;33m)\u001b[0m\u001b[1;33m.\u001b[0m\u001b[0mwait\u001b[0m\u001b[1;33m(\u001b[0m\u001b[1;33m)\u001b[0m\u001b[1;33m\u001b[0m\u001b[0m\n\u001b[0m\u001b[0;32m    524\u001b[0m \u001b[1;33m\u001b[0m\u001b[0m\n\u001b[0;32m    525\u001b[0m \u001b[1;33m\u001b[0m\u001b[0m\n",
      "\u001b[1;32m/usr/lib/python2.7/subprocess.pyc\u001b[0m in \u001b[0;36m__init__\u001b[1;34m(self, args, bufsize, executable, stdin, stdout, stderr, preexec_fn, close_fds, shell, cwd, env, universal_newlines, startupinfo, creationflags)\u001b[0m\n\u001b[0;32m    709\u001b[0m                                 \u001b[0mp2cread\u001b[0m\u001b[1;33m,\u001b[0m \u001b[0mp2cwrite\u001b[0m\u001b[1;33m,\u001b[0m\u001b[1;33m\u001b[0m\u001b[0m\n\u001b[0;32m    710\u001b[0m                                 \u001b[0mc2pread\u001b[0m\u001b[1;33m,\u001b[0m \u001b[0mc2pwrite\u001b[0m\u001b[1;33m,\u001b[0m\u001b[1;33m\u001b[0m\u001b[0m\n\u001b[1;32m--> 711\u001b[1;33m                                 errread, errwrite)\n\u001b[0m\u001b[0;32m    712\u001b[0m         \u001b[1;32mexcept\u001b[0m \u001b[0mException\u001b[0m\u001b[1;33m:\u001b[0m\u001b[1;33m\u001b[0m\u001b[0m\n\u001b[0;32m    713\u001b[0m             \u001b[1;31m# Preserve original exception in case os.close raises.\u001b[0m\u001b[1;33m\u001b[0m\u001b[1;33m\u001b[0m\u001b[0m\n",
      "\u001b[1;32m/usr/lib/python2.7/subprocess.pyc\u001b[0m in \u001b[0;36m_execute_child\u001b[1;34m(self, args, executable, preexec_fn, close_fds, cwd, env, universal_newlines, startupinfo, creationflags, shell, to_close, p2cread, p2cwrite, c2pread, c2pwrite, errread, errwrite)\u001b[0m\n\u001b[0;32m   1341\u001b[0m                         \u001b[1;32mraise\u001b[0m\u001b[1;33m\u001b[0m\u001b[0m\n\u001b[0;32m   1342\u001b[0m                 \u001b[0mchild_exception\u001b[0m \u001b[1;33m=\u001b[0m \u001b[0mpickle\u001b[0m\u001b[1;33m.\u001b[0m\u001b[0mloads\u001b[0m\u001b[1;33m(\u001b[0m\u001b[0mdata\u001b[0m\u001b[1;33m)\u001b[0m\u001b[1;33m\u001b[0m\u001b[0m\n\u001b[1;32m-> 1343\u001b[1;33m                 \u001b[1;32mraise\u001b[0m \u001b[0mchild_exception\u001b[0m\u001b[1;33m\u001b[0m\u001b[0m\n\u001b[0m\u001b[0;32m   1344\u001b[0m \u001b[1;33m\u001b[0m\u001b[0m\n\u001b[0;32m   1345\u001b[0m \u001b[1;33m\u001b[0m\u001b[0m\n",
      "\u001b[1;31mOSError\u001b[0m: [Errno 2] No such file or directory"
     ]
    }
   ],
   "source": [
    "#----- params ------\n",
    "n_hidden = [16, 16, 16, 30, 30, 30, 40, 40, 40]\n",
    "filter_size = [[3,3], [5,5], [7,7]]*3\n",
    "\n",
    "#----- names ------\n",
    "specific_name = 'ClassiCNN_withRegl2'\n",
    "\n",
    "try:\n",
    "    names =[\"%dhidden_\"%n_hidden[i] + \\\n",
    "            \"%dfiltsize_\"%filter_size[i][0] + \\\n",
    "            specific_name for i in range(len(n_hidden))]\n",
    "\n",
    "except: pass\n",
    "# except TypeError:\n",
    "#     names =[\"%dhidden_\"%n_hidden[i] + \\\n",
    "#             \"%dfiltsize_\"%filter_size[i][0] + \\            \n",
    "#             specific_name for i in range (len(n_hidden))]\n",
    "    \n",
    "eval_names_out = [names[i] + \".ipynb\" for i in range (len(names))]\n",
    "print \"Files to execute:\"\n",
    "for name in eval_names_out:\n",
    "    print name\n",
    "\n",
    "#----- names to eval ------\n",
    "eval_names = [\"template\" + \".ipynb\" for i in range (len(names))]\n",
    "\n",
    "\n",
    "#----- essential paths ------\n",
    "run_path = \".\"\n",
    "save_path = \".\"\n",
    "\n",
    "# ----- save converted ipynb to html or not ------\n",
    "to_html = True\n",
    "#----- execution ------\n",
    "execute_notebooks(eval_names, run_path, save_path, eval_names_out, \n",
    "                n_hidden=n_hidden, \n",
    "                filter_size=filter_size,\n",
    "                to_html=to_html)"
   ]
  },
  {
   "cell_type": "code",
   "execution_count": null,
   "metadata": {
    "collapsed": true
   },
   "outputs": [],
   "source": [
    "!mv *.html ./html_results"
   ]
  }
 ],
 "metadata": {
  "kernelspec": {
   "display_name": "Python 2",
   "language": "python",
   "name": "python2"
  },
  "language_info": {
   "codemirror_mode": {
    "name": "ipython",
    "version": 2
   },
   "file_extension": ".py",
   "mimetype": "text/x-python",
   "name": "python",
   "nbconvert_exporter": "python",
   "pygments_lexer": "ipython2",
   "version": "2.7.12"
  }
 },
 "nbformat": 4,
 "nbformat_minor": 0
}
