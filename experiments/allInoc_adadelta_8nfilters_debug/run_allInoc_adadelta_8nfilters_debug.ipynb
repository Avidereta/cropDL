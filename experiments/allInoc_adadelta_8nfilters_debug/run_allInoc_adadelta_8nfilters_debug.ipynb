{
 "cells": [
  {
   "cell_type": "code",
   "execution_count": 1,
   "metadata": {
    "collapsed": false
   },
   "outputs": [
    {
     "name": "stdout",
     "output_type": "stream",
     "text": [
      "/slowhome/makarova/columbia/code\n"
     ]
    }
   ],
   "source": [
    "import os\n",
    "\n",
    "# Make parentdir = 'cropDL'\n",
    "parentdir = os.path.dirname(os.path.dirname(os.path.dirname(os.path.abspath('__file__'))))\n",
    "print parentdir\n",
    "os.sys.path.insert(0,parentdir) \n",
    "from utils.nb_executor_1 import *\n",
    "\n",
    "%load_ext autoreload\n",
    "%autoreload 2"
   ]
  },
  {
   "cell_type": "markdown",
   "metadata": {},
   "source": [
    "## Execute notebooks\n",
    "\n",
    "* The following cell executes notebooks in eval_names (template.ipynb in our case) in the directory run_path. \n",
    "\n",
    "\n",
    "* For notebook execution some parameters (such as n_hidden, filter_size) are needed: they are transmitted to the notebook in function execute_notebooks() via external file (such as n_hidden.txt etc), which are created before execution and then deleted after the execution is done.\n",
    "\n",
    "\n",
    "* Then it saves executed notebooks (with the cell outputs obtained during execution) with new names from eval_names_out to the save_path.   \n",
    "\n",
    "\n",
    "* How eval_names_out are generated?\n",
    "eval_names_out are generated according to parameters (such as n_hidden, filter_size), concatenated with your specific_name, which should reflect the idea of experiment. For example, specific_name = 'ClassiCNN_with_regl2'\n"
   ]
  },
  {
   "cell_type": "code",
   "execution_count": 2,
   "metadata": {
    "collapsed": false
   },
   "outputs": [
    {
     "name": "stdout",
     "output_type": "stream",
     "text": [
      "['allInoc_adadelta_8nfilters_debug']\n",
      "Files to execute:\n",
      "name allInoc_adadelta_8nfilters_debug.ipynb\n",
      "the file will be saved as allInoc_adadelta_8nfilters_debug.ipynb\n",
      "DONE: allInoc_adadelta_8nfilters_debug.ipynb\n"
     ]
    },
    {
     "ename": "NameError",
     "evalue": "global name 'CellExecutionError' is not defined",
     "output_type": "error",
     "traceback": [
      "\u001b[0;31m\u001b[0m",
      "\u001b[0;31mNameError\u001b[0mTraceback (most recent call last)",
      "\u001b[0;32m<ipython-input-2-61a114f2afea>\u001b[0m in \u001b[0;36m<module>\u001b[0;34m()\u001b[0m\n\u001b[1;32m     24\u001b[0m \u001b[0;31m#----- execution ------\u001b[0m\u001b[0;34m\u001b[0m\u001b[0;34m\u001b[0m\u001b[0m\n\u001b[1;32m     25\u001b[0m execute_notebooks(eval_names, run_path, save_path, eval_names_out, \n\u001b[0;32m---> 26\u001b[0;31m                 to_html=to_html)\n\u001b[0m",
      "\u001b[0;32m/slowhome/makarova/columbia/code/utils/nb_executor_1.pyc\u001b[0m in \u001b[0;36mexecute_notebooks\u001b[0;34m(eval_names, run_path, save_path, eval_names_out, to_html)\u001b[0m\n\u001b[1;32m     48\u001b[0m         \u001b[0;32mtry\u001b[0m\u001b[0;34m:\u001b[0m\u001b[0;34m\u001b[0m\u001b[0m\n\u001b[1;32m     49\u001b[0m             \u001b[0mout\u001b[0m \u001b[0;34m=\u001b[0m \u001b[0mep\u001b[0m\u001b[0;34m.\u001b[0m\u001b[0mpreprocess\u001b[0m\u001b[0;34m(\u001b[0m\u001b[0mnb\u001b[0m\u001b[0;34m,\u001b[0m \u001b[0;34m{\u001b[0m\u001b[0;34m'metadata'\u001b[0m\u001b[0;34m:\u001b[0m \u001b[0;34m{\u001b[0m\u001b[0;34m'path'\u001b[0m\u001b[0;34m:\u001b[0m \u001b[0mrun_path\u001b[0m\u001b[0;34m}\u001b[0m\u001b[0;34m}\u001b[0m\u001b[0;34m)\u001b[0m\u001b[0;34m\u001b[0m\u001b[0m\n\u001b[0;32m---> 50\u001b[0;31m         \u001b[0;32mexcept\u001b[0m \u001b[0mCellExecutionError\u001b[0m\u001b[0;34m:\u001b[0m\u001b[0;34m\u001b[0m\u001b[0m\n\u001b[0m\u001b[1;32m     51\u001b[0m             \u001b[0mmsg\u001b[0m \u001b[0;34m=\u001b[0m \u001b[0;34m'Error executing the notebook \"%s\".\\n\\n'\u001b[0m \u001b[0;34m%\u001b[0m \u001b[0meval_name\u001b[0m\u001b[0;34m\u001b[0m\u001b[0m\n\u001b[1;32m     52\u001b[0m             \u001b[0mmsg\u001b[0m \u001b[0;34m+=\u001b[0m \u001b[0;34m'See notebook \"%s\" for the traceback.'\u001b[0m \u001b[0;34m%\u001b[0m \u001b[0meval_name_out\u001b[0m\u001b[0;34m\u001b[0m\u001b[0m\n",
      "\u001b[0;31mNameError\u001b[0m: global name 'CellExecutionError' is not defined"
     ]
    }
   ],
   "source": [
    "#----- params ------\n",
    "\n",
    "#----- names ------\n",
    "try:\n",
    "    names =[\"allInoc_adadelta_8nfilters_debug\", ]\n",
    "\n",
    "except: pass\n",
    "print names\n",
    "    \n",
    "eval_names_out = [names[i] + \".ipynb\" for i in range (len(names))]\n",
    "print \"Files to execute:\"\n",
    "for name in eval_names_out:\n",
    "    print 'name', name\n",
    "\n",
    "#----- names to eval ------\n",
    "eval_names = [names[i] + \".ipynb\" for i in range (len(names))]\n",
    "\n",
    "#----- essential paths ------\n",
    "run_path = \".\"\n",
    "save_path = \".\"\n",
    "\n",
    "# ----- save converted ipynb to html or not ------\n",
    "to_html = True\n",
    "#----- execution ------\n",
    "execute_notebooks(eval_names, run_path, save_path, eval_names_out, \n",
    "                to_html=to_html)"
   ]
  },
  {
   "cell_type": "code",
   "execution_count": null,
   "metadata": {
    "collapsed": true
   },
   "outputs": [],
   "source": [
    "!jupyter nbconvert &&&.ipynb"
   ]
  },
  {
   "cell_type": "code",
   "execution_count": null,
   "metadata": {
    "collapsed": true
   },
   "outputs": [],
   "source": [
    "!mv *.html ./html_results"
   ]
  },
  {
   "cell_type": "code",
   "execution_count": null,
   "metadata": {
    "collapsed": true
   },
   "outputs": [],
   "source": []
  }
 ],
 "metadata": {
  "anaconda-cloud": {},
  "kernelspec": {
   "display_name": "Python [default]",
   "language": "python",
   "name": "python2"
  },
  "language_info": {
   "codemirror_mode": {
    "name": "ipython",
    "version": 2
   },
   "file_extension": ".py",
   "mimetype": "text/x-python",
   "name": "python",
   "nbconvert_exporter": "python",
   "pygments_lexer": "ipython2",
   "version": "2.7.12"
  }
 },
 "nbformat": 4,
 "nbformat_minor": 0
}
