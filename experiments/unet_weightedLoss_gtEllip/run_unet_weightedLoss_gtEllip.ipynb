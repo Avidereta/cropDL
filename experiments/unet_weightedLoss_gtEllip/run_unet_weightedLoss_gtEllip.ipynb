{
 "cells": [
  {
   "cell_type": "code",
   "execution_count": 1,
   "metadata": {
    "collapsed": false
   },
   "outputs": [
    {
     "name": "stdout",
     "output_type": "stream",
     "text": [
      "/slowhome/makarova/columbia/code\n"
     ]
    }
   ],
   "source": [
    "import os\n",
    "\n",
    "# Make parentdir = 'cropDL'\n",
    "parentdir = os.path.dirname(os.path.dirname(os.path.dirname(os.path.abspath('__file__'))))\n",
    "print parentdir\n",
    "os.sys.path.insert(0,parentdir) \n",
    "from utils.nb_executor_1 import *\n",
    "\n",
    "%load_ext autoreload\n",
    "%autoreload 2"
   ]
  },
  {
   "cell_type": "markdown",
   "metadata": {},
   "source": [
    "## Execute notebooks\n",
    "\n",
    "* The following cell executes notebooks in eval_names (template.ipynb in our case) in the directory run_path. \n",
    "\n",
    "\n",
    "* For notebook execution some parameters (such as n_hidden, filter_size) are needed: they are transmitted to the notebook in function execute_notebooks() via external file (such as n_hidden.txt etc), which are created before execution and then deleted after the execution is done.\n",
    "\n",
    "\n",
    "* Then it saves executed notebooks (with the cell outputs obtained during execution) with new names from eval_names_out to the save_path.   \n",
    "\n",
    "\n",
    "* How eval_names_out are generated?\n",
    "eval_names_out are generated according to parameters (such as n_hidden, filter_size), concatenated with your specific_name, which should reflect the idea of experiment. For example, specific_name = 'ClassiCNN_with_regl2'\n"
   ]
  },
  {
   "cell_type": "code",
   "execution_count": null,
   "metadata": {
    "collapsed": false
   },
   "outputs": [
    {
     "name": "stdout",
     "output_type": "stream",
     "text": [
      "['unet_softmax2Fixed']\n",
      "Files to execute:\n",
      "name unet_softmax2Fixed.ipynb\n",
      "the file will be saved as unet_softmax2Fixed.ipynb\n"
     ]
    }
   ],
   "source": [
    "#----- params ------\n",
    "\n",
    "#----- names ------\n",
    "try:\n",
    "    names =[\"unet_weightedLoss_gtEllip\", ]\n",
    "\n",
    "except: pass\n",
    "print names\n",
    "    \n",
    "eval_names_out = [names[i] + \".ipynb\" for i in range (len(names))]\n",
    "print \"Files to execute:\"\n",
    "for name in eval_names_out:\n",
    "    print 'name', name\n",
    "\n",
    "#----- names to eval ------\n",
    "eval_names = [names[i] + \".ipynb\" for i in range (len(names))]\n",
    "\n",
    "#----- essential paths ------\n",
    "run_path = \".\"\n",
    "save_path = \".\"\n",
    "\n",
    "# ----- save converted ipynb to html or not ------\n",
    "to_html = True\n",
    "#----- execution ------\n",
    "execute_notebooks(eval_names, run_path, save_path, eval_names_out, \n",
    "                to_html=to_html)"
   ]
  },
  {
   "cell_type": "code",
   "execution_count": null,
   "metadata": {
    "collapsed": true
   },
   "outputs": [],
   "source": [
    "!jupyter nbconvert &&&.ipynb"
   ]
  },
  {
   "cell_type": "code",
   "execution_count": null,
   "metadata": {
    "collapsed": true
   },
   "outputs": [],
   "source": [
    "!mv *.html ./html_results"
   ]
  },
  {
   "cell_type": "code",
   "execution_count": null,
   "metadata": {
    "collapsed": true
   },
   "outputs": [],
   "source": []
  }
 ],
 "metadata": {
  "anaconda-cloud": {},
  "kernelspec": {
   "display_name": "Python [default]",
   "language": "python",
   "name": "python2"
  },
  "language_info": {
   "codemirror_mode": {
    "name": "ipython",
    "version": 2
   },
   "file_extension": ".py",
   "mimetype": "text/x-python",
   "name": "python",
   "nbconvert_exporter": "python",
   "pygments_lexer": "ipython2",
   "version": "2.7.12"
  }
 },
 "nbformat": 4,
 "nbformat_minor": 0
}
