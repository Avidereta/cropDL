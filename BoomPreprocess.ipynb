{
 "cells": [
  {
   "cell_type": "markdown",
   "metadata": {},
   "source": [
    "# Preprocess Boom Data and its annotations\n"
   ]
  },
  {
   "cell_type": "code",
   "execution_count": null,
   "metadata": {
    "collapsed": false
   },
   "outputs": [],
   "source": [
    "%load_ext autoreload\n",
    "%autoreload 2"
   ]
  },
  {
   "cell_type": "code",
   "execution_count": null,
   "metadata": {
    "collapsed": false
   },
   "outputs": [],
   "source": [
    "import pandas\n",
    "import os\n",
    "import pickle\n",
    "from scipy.misc import imread\n",
    "from os.path import join\n",
    "import numpy as np\n",
    "import itertools\n",
    "from PIL import Image, ImageDraw\n",
    "import matplotlib.pyplot as plt\n",
    "%matplotlib inline\n",
    "import glob\n",
    "import math\n",
    "import cv2\n",
    "\n",
    "from utils.preprocess_data import *\n",
    "from utils.process_dirs import *"
   ]
  },
  {
   "cell_type": "markdown",
   "metadata": {},
   "source": [
    "## Uninoculated data"
   ]
  },
  {
   "cell_type": "code",
   "execution_count": null,
   "metadata": {
    "collapsed": true
   },
   "outputs": [],
   "source": [
    "txt_unin = '/home/anastasia/cropDL/data/boom/canopy_uninoculated_tyrwh_1/ann_img.txt'"
   ]
  },
  {
   "cell_type": "code",
   "execution_count": null,
   "metadata": {
    "collapsed": false
   },
   "outputs": [],
   "source": [
    "samples_unin = read_paths(txt_unin)\n",
    "print samples_unin[0].img_path"
   ]
  },
  {
   "cell_type": "markdown",
   "metadata": {},
   "source": [
    "## Image example"
   ]
  },
  {
   "cell_type": "code",
   "execution_count": null,
   "metadata": {
    "collapsed": false
   },
   "outputs": [],
   "source": [
    "img = Image.open(samples_unin[0].img_path)\n",
    "plt.imshow(img, cmap='Greys_r')"
   ]
  },
  {
   "cell_type": "code",
   "execution_count": null,
   "metadata": {
    "collapsed": false
   },
   "outputs": [],
   "source": [
    "for i, [ann_path, img_path] in enumerate(samples_unin):\n",
    "\n",
    "    img_segments = extract_segmnets(ann_path)\n",
    "    nmb_seg = count_lesions_nmb(img_segments)\n",
    "\n",
    "    print \"{}: {}, nmb_segments = {} \\n\"\\\n",
    "            .format(i, os.path.basename(img_path), len(img_segments))"
   ]
  },
  {
   "cell_type": "markdown",
   "metadata": {},
   "source": [
    "### Drawn Overlay example"
   ]
  },
  {
   "cell_type": "code",
   "execution_count": null,
   "metadata": {
    "collapsed": false
   },
   "outputs": [],
   "source": [
    "f = 200\n",
    "ann_path, img_path = samples_unin[f]\n",
    "\n",
    "img_segments = extract_segmnets(ann_path)\n",
    "nmb_lesions = count_lesions_nmb(img_segments)\n",
    "if nmb_lesions == 0:\n",
    "    print 'Number of lesions = 0'\n",
    "else:\n",
    "    for i, seg in enumerate(img_segments):\n",
    "        print 'segment coordinates: {}, segment {} length: '.format(seg.coord(), i), seg.length()\n",
    "\n",
    "    nmb_intersections = compute_intersections_nmb(img_segments)\n",
    "    nmb_lesions = len(img_segments) - nmb_intersections\n",
    "    print '\\nnumber of intersections', nmb_intersections\n",
    "    print \"number of lesions {} \\n\".format(nmb_lesions)\n",
    "\n",
    "fig, ax = plt.subplots(figsize=(60,20))\n",
    "print img_path\n",
    "img = Image.open(img_path)\n",
    "draw = ImageDraw.Draw(img) \n",
    "if nmb_lesions:\n",
    "    for seg in img_segments:\n",
    "        draw.line(seg.coord(), fill=128, width = 10)\n",
    "ax.imshow(img, cmap='Greys_r')"
   ]
  },
  {
   "cell_type": "markdown",
   "metadata": {},
   "source": [
    "## Save images with overlaid segments and ellipses "
   ]
  },
  {
   "cell_type": "code",
   "execution_count": null,
   "metadata": {
    "collapsed": false,
    "scrolled": true
   },
   "outputs": [],
   "source": [
    "import math\n",
    "\n",
    "path_to_save = '/home/anastasia/cropDL/data/boom/canopy_uninoculated_tyrwh_2/Imgs_masks/'\n",
    "\n",
    "SAVE = True\n",
    "\n",
    "for ann_path, img_path in samples_unin:\n",
    "\n",
    "    basename = os.path.basename(img_path.split('.')[0])\n",
    "    print basename\n",
    "    img_segments = extract_segmnets(ann_path)\n",
    "    nmb_lesions = count_lesions_nmb(img_segments)\n",
    "\n",
    "    img = cv2.imread(img_path)\n",
    "    \n",
    "    if nmb_lesions:\n",
    "        for seg in img_segments:\n",
    "            x1,y1,x2,y2 = seg.coord()\n",
    "\n",
    "            cv2.line(img, (x1,y1), (x2,y2), (0,0,255),5)\n",
    "        if SAVE:\n",
    "            cv2.imwrite(os.path.join(path_to_save,basename+'_line.JPG'),img)\n",
    "\n",
    "    if nmb_lesions:\n",
    "        for seg in img_segments:\n",
    "            x1,y1,x2,y2 = seg.coord()\n",
    "\n",
    "            center = (int((x1 + x2)*0.5), int((y1 + y2)*0.5))\n",
    "            seglen = int(seg.length()/2)\n",
    "            angle = int(math.atan2((y1-y2),(x1-x2))*180/math.pi)\n",
    "\n",
    "            cv2.ellipse(img=img, center=center, axes=(seglen, seglen/4), angle=angle, startAngle=360, endAngle=0,  \n",
    "                color=(0,0,255),thickness=-1)\n",
    "        if SAVE:\n",
    "            cv2.imwrite(os.path.join(path_to_save,basename+'_mask.JPG'),img)\n"
   ]
  },
  {
   "cell_type": "markdown",
   "metadata": {},
   "source": [
    "## Create per pixel annotation with ellipse gt"
   ]
  },
  {
   "cell_type": "code",
   "execution_count": null,
   "metadata": {
    "collapsed": false,
    "scrolled": true
   },
   "outputs": [],
   "source": [
    "COEFF = 6 # ratio of ellipse axis\n",
    "# Hlim = 180 # hue limit\n",
    "\n",
    "path_to_save = '/home/anastasia/cropDL/data/boom/canopy_uninoculated_tyrwh_1/Imgs_gtEllip/'\n",
    "for i, (ann_path, img_path) in enumerate(samples_unin):\n",
    "    basename = os.path.basename(img_path.split('.')[0])\n",
    "    print basename\n",
    "    img_segments = extract_segmnets(ann_path)\n",
    "\n",
    "    img = cv2.imread(img_path)\n",
    "\n",
    "    mask = np.ones(img.shape[:2], np.uint8)\n",
    "    for seg in img_segments:\n",
    "\n",
    "        x1,y1,x2,y2 = seg.coord()\n",
    "\n",
    "        center = (int((x1 + x2)*0.5), int((y1 + y2)*0.5))\n",
    "        seglen = int(seg.length()/2)\n",
    "        angle = int(math.atan2((y1-y2),(x1-x2))*180/math.pi)\n",
    "\n",
    "        cv2.ellipse(img=mask, center=center, axes=(seglen, seglen/COEFF), angle=angle, startAngle=360, endAngle=0,  \n",
    "            color=255,thickness=-1)\n",
    "\n",
    "    cv2.imwrite(os.path.join(path_to_save,basename+'_gtEllip.JPG'),mask)\n",
    "\n",
    "\n",
    "\n",
    "\n"
   ]
  },
  {
   "cell_type": "markdown",
   "metadata": {},
   "source": [
    "## Split uninocul in quarters"
   ]
  },
  {
   "cell_type": "code",
   "execution_count": null,
   "metadata": {
    "collapsed": false,
    "scrolled": true
   },
   "outputs": [],
   "source": [
    "from utils.split_image_4_quarters import split_img_quarters\n",
    "\n",
    "dir_to_save = '/home/anastasia/cropDL/data/boom/canopy_uninoculated_tyrwh_1/Quarters/Imgs_gtEllip/'\n",
    "imgs_dir = '/home/anastasia/cropDL/data/boom/canopy_uninoculated_tyrwh_1/Imgs_gtEllip'\n",
    "\n",
    "for i,img_path in enumerate(os.listdir(imgs_dir)):\n",
    "    print i\n",
    "    img_path = os.path.join(imgs_dir, img_path)\n",
    "    split_img_quarters(img_path, dir_to_save)"
   ]
  },
  {
   "cell_type": "code",
   "execution_count": null,
   "metadata": {
    "collapsed": false
   },
   "outputs": [],
   "source": [
    "img = Image.open(dir_to_save+os.listdir(dir_to_save_save_save_saveto_save)[0])\n",
    "plt.imshow(img, cmap='Greys_r')"
   ]
  },
  {
   "cell_type": "markdown",
   "metadata": {},
   "source": [
    "## Create txt file with per pixel ann + quarter img paths"
   ]
  },
  {
   "cell_type": "code",
   "execution_count": null,
   "metadata": {
    "collapsed": false
   },
   "outputs": [],
   "source": [
    "ann_paths = np.sort(os.listdir('/home/anastasia/cropDL/data/boom/canopy_uninoculated_tyrwh_2/Quarters/Imgs_gtEllip/'))\n",
    "img_paths = os.listdir('/home/anastasia/cropDL/data/boom/canopy_uninoculated_tyrwh_2/Quarters/Imgs/')\n",
    "\n",
    "with open ('/home/anastasia/cropDL/data/boom/canopy_uninoculated_tyrwh_2/Quarters/ann_img_unin.txt', 'w') as txt:\n",
    "    for ann_path in ann_paths:\n",
    "        txt.write(ann_path+'\\n')\n",
    "    "
   ]
  },
  {
   "cell_type": "markdown",
   "metadata": {},
   "source": [
    "### Show histogram"
   ]
  },
  {
   "cell_type": "code",
   "execution_count": null,
   "metadata": {
    "collapsed": false
   },
   "outputs": [],
   "source": [
    "\n",
    "# Calculate histogram with mask and without mask\n",
    "# Check third argument for mask\n",
    "img = cv2.cvtColor(img, cv2.COLOR_BGR2HLS)\n",
    "hist_full = cv2.calcHist([img],[0],None,[Hlim],[0,Hlim])\n",
    "color = ('b','g','r')\n",
    "\n",
    "fig, ax = plt.subplots(figsize=(20,5))\n",
    "for i,col in enumerate(color):\n",
    "    print col, i\n",
    "    hist_mask = cv2.calcHist([img],[i],mask,[Hlim],[0,Hlim])\n",
    "    ax.plot(hist_mask, color = col)\n",
    "    ax.set_xlim([0,250])\n",
    "    ax.grid()\n",
    "\n",
    "plt.show()"
   ]
  },
  {
   "cell_type": "markdown",
   "metadata": {},
   "source": [
    "### Extract lesion"
   ]
  },
  {
   "cell_type": "code",
   "execution_count": null,
   "metadata": {
    "collapsed": false
   },
   "outputs": [],
   "source": [
    "# define range of blue color in HSV\n",
    "lower_lesion = np.array([140])\n",
    "upper_lesion = np.array([179])\n",
    "\n",
    "\n",
    "fig, ax = plt.subplots(figsize=(20,20))\n",
    "# Threshold the HSV image to get only blue colors\n",
    "masked_img_hls = cv2.cvtColor(masked_img, cv2.COLOR_BGR2HLS)\n",
    "ax.imshow(masked_img_hls)\n",
    "# crop lesion\n",
    "# cropped = masked_img_hls[:2000:, 4000:]\n",
    "# fig, ax = plt.subplots(figsize = (20,20))\n",
    "# plt.imshow(cropped)\n",
    "# cv2.imwrite('lesion.JPG', cropped)\n",
    "\n",
    "masked_img_h = masked_img_hls[:,:,0]\n",
    "ax.imshow(masked_img_h)\n",
    "print masked_img_h.shape\n",
    "\n",
    "mask_h = cv2.inRange(masked_img_h, lower_lesion, upper_lesion)\n",
    "\n",
    "mask_hls = np.repeat(mask_h[:,:, np.newaxis], 3, axis = 2)\n",
    "\n",
    "print 'mask_hls.dtype',mask_hls.dtype\n",
    "print 'masked_img_hls.dtype', masked_img_hls.dtype\n",
    "print mask_hls.shape, masked_img_hls.shape\n",
    "\n",
    "fig, ax = plt.subplots(figsize=(20,20))\n",
    "ax.imshow(mask_h)\n",
    "\n",
    "# Bitwise-AND mask and original image\n",
    "# res = cv2.bitwise_and(masked_img_hls,masked_img_hls, mask= mask_hls)\n",
    "\n",
    "\n",
    "# print masked_img.shape\n",
    "# fig, ax = plt.subplots(figsize = (20,20))\n",
    "# plt.imshow(res)\n",
    "# plt.imshow(masked_img_hls)"
   ]
  },
  {
   "cell_type": "code",
   "execution_count": null,
   "metadata": {
    "collapsed": false
   },
   "outputs": [],
   "source": [
    "nmb_lesions_uninoc = []\n",
    "            \n",
    "for ann_path,_ in samples_unin: \n",
    "\n",
    "    segments = extract_segmnets(ann_path)\n",
    "    nmb_lesions_uninoc.append(count_lesions_nmb(segments))\n",
    "    \n",
    "print 'Mean number of lesions per uninoculated image is', np.mean(nmb_lesions_uninoc)"
   ]
  },
  {
   "cell_type": "code",
   "execution_count": null,
   "metadata": {
    "collapsed": false
   },
   "outputs": [],
   "source": [
    "f,a = plt.subplots(1,2, figsize=(15,5))\n",
    "a = a.ravel()\n",
    "\n",
    "a[0].hist(nmb_lesions_uninoc, facecolor='blue', bins = np.max(nmb_lesions_uninoc))\n",
    "a[0].set_title('Histogram over nmb of lesions per image in TRAIN set')\n",
    "a[0].set_xlabel('Nmb of lesions per image')\n",
    "a[0].set_ylabel('Nmb of images')"
   ]
  },
  {
   "cell_type": "markdown",
   "metadata": {},
   "source": [
    "# Inoculated data (more lesioned)"
   ]
  },
  {
   "cell_type": "markdown",
   "metadata": {},
   "source": [
    "## Create file with segment annotation + image path"
   ]
  },
  {
   "cell_type": "code",
   "execution_count": null,
   "metadata": {
    "collapsed": true
   },
   "outputs": [],
   "source": [
    "anns_inoc_dir_path = \"/home/makarova/columbia/data/inoculated_ethan/Anns/\"\n",
    "imgs_inoc_dir_path = \"/home/makarova/columbia/data/inoculated_ethan/Imgs/\""
   ]
  },
  {
   "cell_type": "code",
   "execution_count": null,
   "metadata": {
    "collapsed": true
   },
   "outputs": [],
   "source": [
    "txt_inoc = \"/home/makarova/columbia/data/inoculated_ethan/ann_img.txt\""
   ]
  },
  {
   "cell_type": "code",
   "execution_count": null,
   "metadata": {
    "collapsed": false
   },
   "outputs": [],
   "source": [
    "import os\n",
    "# create file with annotation paths\n",
    "ann_paths = [os.path.join(anns_inoc_dir_path,f)\\\n",
    "             for f in os.listdir(anns_inoc_dir_path) if f.endswith('.csv')]\n",
    "\n",
    "with open (txt_inoc, 'w') as txt:\n",
    "    for ann_path in np.sort(ann_paths):\n",
    "        txt.write(ann_path+'\\n')\n",
    "        \n",
    "# open file with vim and in opened console past:\n",
    "# :%s/\\(.*\\)Count\\(.*\\)_results.csv/\\1Count\\2_results.csv\\ \\1Done\\2.JPG/g\n",
    "# then the paths to images will be added to the same line"
   ]
  },
  {
   "cell_type": "code",
   "execution_count": null,
   "metadata": {
    "collapsed": false
   },
   "outputs": [],
   "source": [
    "# check whether all image paths exist\n",
    "with open (txt_inoc, 'r') as txt:\n",
    "    lines = txt.readlines()\n",
    "with open (txt_inoc, 'w') as txt:\n",
    "    for line in lines:\n",
    "        img_path = line.split(' ')[0]\n",
    "        if os.path.isfile(img_path):\n",
    "            txt.write(line)\n",
    "        else: print line"
   ]
  },
  {
   "cell_type": "markdown",
   "metadata": {
    "collapsed": true
   },
   "source": [
    "## Create per ixel annotation"
   ]
  },
  {
   "cell_type": "code",
   "execution_count": null,
   "metadata": {
    "collapsed": false
   },
   "outputs": [],
   "source": [
    "samples_inoc = read_paths(txt_inoc)\n",
    "print samples_inoc[0].img_path"
   ]
  },
  {
   "cell_type": "markdown",
   "metadata": {},
   "source": [
    "## Image example"
   ]
  },
  {
   "cell_type": "code",
   "execution_count": null,
   "metadata": {
    "collapsed": false
   },
   "outputs": [],
   "source": [
    "img = Image.open(samples_inoc[0].img_path)\n",
    "plt.imshow(img, cmap='Greys_r')"
   ]
  },
  {
   "cell_type": "code",
   "execution_count": null,
   "metadata": {
    "collapsed": false
   },
   "outputs": [],
   "source": [
    "nmb_seg_all = []\n",
    "for i, [ann_path, img_path] in enumerate(samples_inoc):\n",
    "\n",
    "    img_segments = extract_segmnets(ann_path)\n",
    "    nmb_seg = count_lesions_nmb(img_segments)\n",
    "    nmb_seg_all.append(nmb_seg)\n",
    "    print \"{}: {}, nmb_segments = {} \\n\"\\\n",
    "            .format(i, os.path.basename(img_path), len(img_segments))"
   ]
  },
  {
   "cell_type": "code",
   "execution_count": null,
   "metadata": {
    "collapsed": false
   },
   "outputs": [],
   "source": [
    "print 'Mean number of segments per image = {}'.format(np.mean(nmb_seg_all))"
   ]
  },
  {
   "cell_type": "markdown",
   "metadata": {},
   "source": [
    "### Drawn Overlay example"
   ]
  },
  {
   "cell_type": "code",
   "execution_count": null,
   "metadata": {
    "collapsed": false
   },
   "outputs": [],
   "source": [
    "f = 28\n",
    "ann_path, img_path = samples_inoc[f]\n",
    "\n",
    "img_segments = extract_segmnets(ann_path)\n",
    "nmb_lesions = count_lesions_nmb(img_segments)\n",
    "if nmb_lesions == 0:\n",
    "    print 'Number of lesions = 0'\n",
    "else:\n",
    "    for i, seg in enumerate(img_segments):\n",
    "        print 'segment coordinates: {}, segment {} length: '.format(seg.coord(), i), seg.length()\n",
    "\n",
    "    nmb_intersections = compute_intersections_nmb(img_segments)\n",
    "    nmb_lesions = len(img_segments) - nmb_intersections\n",
    "    print '\\nnumber of intersections', nmb_intersections\n",
    "    print \"number of lesions {} \\n\".format(nmb_lesions)\n",
    "\n",
    "fig, ax = plt.subplots(figsize=(60,20))\n",
    "print img_path\n",
    "img = Image.open(img_path)\n",
    "draw = ImageDraw.Draw(img) \n",
    "if nmb_lesions:\n",
    "    for seg in img_segments:\n",
    "        draw.line(seg.coord(), fill=128, width = 10)\n",
    "ax.imshow(img, cmap='Greys_r')"
   ]
  },
  {
   "cell_type": "markdown",
   "metadata": {},
   "source": [
    "## Save images with overlaid segments and ellipses "
   ]
  },
  {
   "cell_type": "code",
   "execution_count": null,
   "metadata": {
    "collapsed": false
   },
   "outputs": [],
   "source": [
    "import math\n",
    "\n",
    "path_to_save = '/home/makarova/columbia/data/inoculated_ethan/Imgs_masks/'\n",
    "\n",
    "SAVE = True\n",
    "\n",
    "for ann_path, img_path in samples_inoc:\n",
    "\n",
    "    basename = os.path.basename(img_path.split('.')[0])\n",
    "    print basename\n",
    "    img_segments = extract_segmnets(ann_path)\n",
    "    nmb_lesions = count_lesions_nmb(img_segments)\n",
    "\n",
    "    img = cv2.imread(img_path)\n",
    "    \n",
    "    if nmb_lesions:\n",
    "        for seg in img_segments:\n",
    "            x1,y1,x2,y2 = seg.coord()\n",
    "\n",
    "            cv2.line(img, (x1,y1), (x2,y2), (0,0,255),5)\n",
    "        if SAVE:\n",
    "            cv2.imwrite(os.path.join(path_to_save,basename+'_line.JPG'),img)\n",
    "\n",
    "    if nmb_lesions:\n",
    "        for seg in img_segments:\n",
    "            x1,y1,x2,y2 = seg.coord()\n",
    "\n",
    "            center = (int((x1 + x2)*0.5), int((y1 + y2)*0.5))\n",
    "            seglen = int(seg.length()/2)\n",
    "            angle = int(math.atan2((y1-y2),(x1-x2))*180/math.pi)\n",
    "\n",
    "            cv2.ellipse(img=img, center=center, axes=(seglen, seglen/4), angle=angle, startAngle=360, endAngle=0,  \n",
    "                color=(0,0,255),thickness=-1)\n",
    "        if SAVE:\n",
    "            cv2.imwrite(os.path.join(path_to_save,basename+'_mask.JPG'),img)\n"
   ]
  },
  {
   "cell_type": "markdown",
   "metadata": {},
   "source": [
    "## Create per pixel annotation with ellipse gt"
   ]
  },
  {
   "cell_type": "code",
   "execution_count": null,
   "metadata": {
    "collapsed": false,
    "scrolled": true
   },
   "outputs": [],
   "source": [
    "COEFF = 6 # ratio of ellipse axis\n",
    "# Hlim = 180 # hue limit\n",
    "\n",
    "path_to_save = '/home/makarova/columbia/data/inoculated_ethan/Imgs_gtEllip/'\n",
    "for i, (ann_path, img_path) in enumerate(samples_inoc):\n",
    "    basename = os.path.basename(img_path.split('.')[0])\n",
    "    print basename\n",
    "    img_segments = extract_segmnets(ann_path)\n",
    "\n",
    "    img = cv2.imread(img_path)\n",
    "\n",
    "    mask = np.ones(img.shape[:2], np.uint8)\n",
    "    for seg in img_segments:\n",
    "\n",
    "        x1,y1,x2,y2 = seg.coord()\n",
    "\n",
    "        center = (int((x1 + x2)*0.5), int((y1 + y2)*0.5))\n",
    "        seglen = int(seg.length()/2)\n",
    "        angle = int(math.atan2((y1-y2),(x1-x2))*180/math.pi)\n",
    "\n",
    "        cv2.ellipse(img=mask, center=center, axes=(seglen, seglen/COEFF), angle=angle, startAngle=360, endAngle=0,  \n",
    "            color=255,thickness=-1)\n",
    "\n",
    "    cv2.imwrite(os.path.join(path_to_save,basename+'_gtEllip.JPG'),mask)\n",
    "\n",
    "\n",
    "\n",
    "\n"
   ]
  },
  {
   "cell_type": "markdown",
   "metadata": {},
   "source": [
    "## Create txt file with per pixel ann + quarter img paths"
   ]
  },
  {
   "cell_type": "code",
   "execution_count": null,
   "metadata": {
    "collapsed": false
   },
   "outputs": [],
   "source": [
    "ann_dir = '/home/makarova/columbia/data/inoculated_ethan/Imgs_gtEllip/'\n",
    "ann_paths = np.sort(os.listdir(ann_dir))\n",
    "img_paths = os.listdir('/home/makarova/columbia/data/inoculated_ethan/Imgs/')\n",
    "\n",
    "txt_inoc = '/home/makarova/columbia/data/inoculated_ethan/gt_img_inoc.txt'\n",
    "with open (txt_inoc, 'w') as txt:\n",
    "    for ann_path in ann_paths:\n",
    "        txt.write(os.path.join(ann_dir,ann_path+'\\n'))\n",
    "    "
   ]
  },
  {
   "cell_type": "markdown",
   "metadata": {},
   "source": [
    "### Show histogram for hue in ellipse mask"
   ]
  },
  {
   "cell_type": "code",
   "execution_count": null,
   "metadata": {
    "collapsed": false
   },
   "outputs": [],
   "source": [
    "\n",
    "# # Calculate histogram with mask and without mask\n",
    "# # Check third argument for mask\n",
    "# img = cv2.cvtColor(img, cv2.COLOR_BGR2HLS)\n",
    "# hist_full = cv2.calcHist([img],[0],None,[Hlim],[0,Hlim])\n",
    "# color = ('b','g','r')\n",
    "\n",
    "# fig, ax = plt.subplots(figsize=(20,5))\n",
    "# for i,col in enumerate(color):\n",
    "#     print col, i\n",
    "#     hist_mask = cv2.calcHist([img],[i],mask,[Hlim],[0,Hlim])\n",
    "#     ax.plot(hist_mask, color = col)\n",
    "#     ax.set_xlim([0,250])\n",
    "#     ax.grid()\n",
    "\n",
    "# plt.show()"
   ]
  },
  {
   "cell_type": "markdown",
   "metadata": {},
   "source": [
    "# Merge several txt files and create train/valid/test txt"
   ]
  },
  {
   "cell_type": "code",
   "execution_count": null,
   "metadata": {
    "collapsed": false
   },
   "outputs": [],
   "source": [
    "# txt files with paths to gt annotation and img\n",
    "txt1 = '/home/makarova/columbia/data/inoculated_ethan/gt_img_inoc.txt'\n",
    "txt2 = '/home/makarova/columbia/data/inoculated_1/gt_img_inoc.txt'\n",
    "\n",
    "txt_all = '/home/makarova/columbia/data/gt_img_inoc__tyrethan.txt'\n",
    "txt_train = '/home/makarova/columbia/data/gt_img_inoc_tyrethan_train'\n",
    "txt_valid = '/home/makarova/columbia/data/gt_img_inoc_tyrethan_valid'\n",
    "txt_test = '/home/makarova/columbia/data/gt_img_inoc_tyrethan_test'"
   ]
  },
  {
   "cell_type": "code",
   "execution_count": null,
   "metadata": {
    "collapsed": false
   },
   "outputs": [],
   "source": [
    "with open (txt2, 'r') as fin:\n",
    "    lines1 = fin.readlines()\n",
    "with open (txt1, 'r') as fin:\n",
    "    lines2 = fin.readlines()\n",
    "\n",
    "print 'len(lines1)', len(lines1)\n",
    "lines1.extend(lines2) \n",
    "print 'len(lines1)', len(lines1) \n",
    "\n",
    "with open (txt_all, 'w') as fout:\n",
    "    for i,line in enumerate(lines1):\n",
    "        img_path = line.split(' ')[0]\n",
    "        if os.path.isfile(img_path):\n",
    "            fout.write(line)\n",
    "        else: print i, line\n",
    "    print i+1\n",
    "        \n",
    "        "
   ]
  },
  {
   "cell_type": "code",
   "execution_count": null,
   "metadata": {
    "collapsed": false
   },
   "outputs": [],
   "source": [
    "import os\n",
    "\n",
    "with open (txt1, 'r') as fin:\n",
    "    lines1 = fin.readlines()\n",
    "with open (txt2, 'r') as fin:\n",
    "    lines2 = fin.readlines()\n",
    "    \n",
    "print len(lines1), len(lines2)\n",
    "\n",
    "\n",
    "mode = 'w'\n",
    "print 'saved to:', txt_train, txt_valid, txt_test\n",
    "with open (txt_train, mode) as fout_train, open(txt_valid, mode) as fout_valid, open(txt_test, mode) as fout_test:\n",
    "    \n",
    "    tr, v, ts = 0, 0, 0\n",
    "    for i,line in enumerate(lines1):\n",
    "        img_path = line.split(' ')[0]\n",
    "        if os.path.isfile(img_path):\n",
    "            if i < 400:\n",
    "                fout_train.write(line)\n",
    "                tr+=1\n",
    "            if 400 <= i < 450:\n",
    "                fout_valid.write(line)\n",
    "                v+=1\n",
    "            if i >= 450:\n",
    "                fout_test.write(line)\n",
    "                ts+=1\n",
    "    print tr, v, ts\n",
    "\n",
    "mode = 'a+'\n",
    "print 'saved to:', txt_train, txt_valid, txt_test\n",
    "with open (txt_train, mode) as fout_train, open(txt_valid, mode) as fout_valid, open(txt_test, mode) as fout_test:\n",
    "    \n",
    "    tr, v, ts = 0, 0, 0\n",
    "    for i,line in enumerate(lines2):\n",
    "        img_path = line.split(' ')[0]\n",
    "        if os.path.isfile(img_path):\n",
    "            if i < 400:\n",
    "                fout_train.write(line)\n",
    "                tr+=1\n",
    "            if 400 <= i < 450:\n",
    "                fout_valid.write(line)\n",
    "                v+=1\n",
    "            if i >= 450:\n",
    "                fout_test.write(line)\n",
    "                ts+=1\n",
    "    print tr, v, ts"
   ]
  },
  {
   "cell_type": "markdown",
   "metadata": {
    "collapsed": true
   },
   "source": [
    "# Crop images into smaller ones\n",
    "Preprocess images"
   ]
  },
  {
   "cell_type": "code",
   "execution_count": null,
   "metadata": {
    "collapsed": true
   },
   "outputs": [],
   "source": []
  }
 ],
 "metadata": {
  "kernelspec": {
   "display_name": "Python [default]",
   "language": "python",
   "name": "python2"
  },
  "language_info": {
   "codemirror_mode": {
    "name": "ipython",
    "version": 2
   },
   "file_extension": ".py",
   "mimetype": "text/x-python",
   "name": "python",
   "nbconvert_exporter": "python",
   "pygments_lexer": "ipython2",
   "version": "2.7.12"
  }
 },
 "nbformat": 4,
 "nbformat_minor": 0
}
