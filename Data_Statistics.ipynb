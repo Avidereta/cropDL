{
 "cells": [
  {
   "cell_type": "markdown",
   "metadata": {},
   "source": [
    "# Data statistics"
   ]
  },
  {
   "cell_type": "code",
   "execution_count": 3,
   "metadata": {
    "collapsed": true
   },
   "outputs": [],
   "source": [
    "import pandas\n",
    "import os\n",
    "import pickle\n",
    "from scipy.misc import imread\n",
    "from os.path import join\n",
    "import numpy as np\n",
    "import itertools\n",
    "from PIL import Image, ImageDraw\n",
    "import matplotlib.pyplot as plt\n",
    "%matplotlib inline\n",
    "import glob\n",
    "import math\n",
    "import cv2\n",
    "\n",
    "from utils.preprocess_data import *\n",
    "from utils.process_dirs import *"
   ]
  },
  {
   "cell_type": "markdown",
   "metadata": {},
   "source": [
    "# Uninoculated data"
   ]
  },
  {
   "cell_type": "code",
   "execution_count": 11,
   "metadata": {
    "collapsed": true
   },
   "outputs": [],
   "source": [
    "# path to file with: annotation path image path\n",
    "txt_unin = '/home/anastasia/cropDL/data/boom/canopy_uninoculated_tyrwh_1/Quarters/ann_img_unin.txt'"
   ]
  },
  {
   "cell_type": "code",
   "execution_count": null,
   "metadata": {
    "collapsed": false
   },
   "outputs": [],
   "source": [
    "samples_unin = read_paths(txt_unin)\n",
    "\n",
    "#test\n",
    "print samples_unin[0].img_path"
   ]
  },
  {
   "cell_type": "code",
   "execution_count": null,
   "metadata": {
    "collapsed": false
   },
   "outputs": [],
   "source": [
    "nmb_segments_unin = []\n",
    "for ann_path, img_path in samples_unin:\n",
    "    \n",
    "    img_segments = extract_segmnets(ann_path)\n",
    "    print len(img_segments)\n",
    "    nmb_segments_unin.append(len(img_segments))"
   ]
  },
  {
   "cell_type": "code",
   "execution_count": 12,
   "metadata": {
    "collapsed": false
   },
   "outputs": [
    {
     "name": "stdout",
     "output_type": "stream",
     "text": [
      "Number of images in the set 626 \n",
      "Mean number of lesions per image 0.58\n"
     ]
    },
    {
     "data": {
      "image/png": "[encoded data removed]",
      "text/plain": [
       "<matplotlib.figure.Figure at 0x7f9e4635e650>"
      ]
     },
     "metadata": {},
     "output_type": "display_data"
    }
   ],
   "source": [
    "print '''Number of images in the set {} \\nMean number of lesions per image {}'''.\\\n",
    "    format(len(nmb_lesions_unin), np.round(np.mean(nmb_lesions_unin),2))\n",
    "\n",
    "f,a = plt.subplots(figsize=(15,5))\n",
    "\n",
    "a.hist(nmb_lesions_unin, facecolor='blue', bins = np.max(nmb_lesions_unin))\n",
    "a.set_title('Histogram over nmb of lesions per image in UNINOCULATED')\n",
    "a.set_xlabel('Nmb of lesions per image')\n",
    "a.set_ylabel('Nmb of images')\n",
    "a.grid()"
   ]
  },
  {
   "cell_type": "markdown",
   "metadata": {},
   "source": [
    "# Inoculated data"
   ]
  },
  {
   "cell_type": "code",
   "execution_count": null,
   "metadata": {
    "collapsed": true
   },
   "outputs": [],
   "source": []
  }
 ],
 "metadata": {
  "anaconda-cloud": {},
  "kernelspec": {
   "display_name": "Python [default]",
   "language": "python",
   "name": "python2"
  },
  "language_info": {
   "codemirror_mode": {
    "name": "ipython",
    "version": 2
   },
   "file_extension": ".py",
   "mimetype": "text/x-python",
   "name": "python",
   "nbconvert_exporter": "python",
   "pygments_lexer": "ipython2",
   "version": "2.7.12"
  }
 },
 "nbformat": 4,
 "nbformat_minor": 0
}
